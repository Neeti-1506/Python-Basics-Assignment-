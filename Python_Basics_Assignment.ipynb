{
  "nbformat": 4,
  "nbformat_minor": 0,
  "metadata": {
    "colab": {
      "provenance": []
    },
    "kernelspec": {
      "name": "python3",
      "display_name": "Python 3"
    },
    "language_info": {
      "name": "python"
    }
  },
  "cells": [
    {
      "cell_type": "code",
      "execution_count": null,
      "metadata": {
        "id": "ZguqOMmYMdd4"
      },
      "outputs": [],
      "source": []
    },
    {
      "cell_type": "markdown",
      "source": [],
      "metadata": {
        "id": "DT0FW329Z0tK"
      }
    },
    {
      "cell_type": "markdown",
      "source": [
        "#Theortical Questions\n",
        "\n",
        "1. What is Python, and why is it popular ?\n",
        "  - Python is a object oriented, high-level programming language. It's name was based on a comic series character named 'Monty Python' and released by Guido van Rossum in 1991.\n",
        "  - Python is popularly used for website developments, software developments , in mathematics, statistics, system scrpting, Machine Learning (ML), etc. Main reasons behind its popularity are-\n",
        "    * It works on different platforms.\n",
        "    * Its simple syntax and code readability.\n",
        "    * Runs on Interpretor.\n",
        "    * Procedural objected oriented language, functional programming language.\n",
        "\n",
        "    These are some of the reasons among many for it's popularity.\n",
        "\n",
        "2. What is an interpreter in Python?\n",
        "  - Python is a programming language, which works on a interpretor. An interpretor reads and executes python codes. While in other languages C or C++, data first needs to be compiled in machine language befor execution of any code in a program. Pyhton interpretor is a program that reads python code and execute it line by line.\n",
        "3. What are pre-defined keywords in Python ?\n",
        "  - Pre-defined keywords are the set of words that have a special meaning and specific purpose. These keywords store data which makes the functioning easier. These keywords are part of the Python Syntax and holds special place in data for proper structure and functioning of codes. There are 36 predefined keywords in Python such as True, false, If, else, etc.\n",
        "\n",
        "4. Can keywords be used as variable names ?\n",
        "  - No, keywords cannot be used as variable names in Python. Keywords are reserved by the Python language to make its syntax easier for the user. As keywords already have its place assign in backend of the program, so if we use keyword as a variable name, it will show a SyntaxError: cannot assign to keyword. For example:\n",
        "  \n",
        "    If= 100 # SyntaxError: cannot assign to keyword\n",
        "\n",
        "    In this way, it will show an error, and code would not be able to run.\n",
        "\n",
        "  5. What is mutability in Python ?\n",
        "    - Mutablity in python refers to whether an object's state or value can be changed (modified) or not after being created.\n",
        "\n",
        "        Mutable Objects- Objects whose state or value can be changed after they are created like Lists, Dictionaries.\n",
        "\n",
        "        Immutable Objects- Objects whose state or value cannot be changed after they are created like Strings, Tuples.\n",
        "\n",
        "  6.  Why are lists mutable, but tuples are immutable ?\n",
        "\n",
        "      - Lists are mutable because they are used for the data in which values are changed according to situations, enabling the user to increase or decrease.\n",
        "\n",
        "      - Tuples are immutable as they are used for data which needed to be authentic for a specific data type, enabling the security of the credentials of the user in various purposes like AADHAR ID, Employee ID, Geographical Locations, etc.\n",
        "\n",
        "  7. What is the difference between “==” and “is” operators in Python?\n",
        "\n",
        "    - In Python, both “==” and “is” operators are used for comparision, but they serve different purposes as.\n",
        "\n",
        "        * “==” (Equality Operator)- This is a type of comparision opeartor that checks whether the values of two objects are equal. It only compares the actual content of the objects.\n",
        "\n",
        "        Example-\n",
        "        \n",
        "        a = [1, 2, 3]\n",
        "        \n",
        "        b = [1, 2, 3]\n",
        "        \n",
        "        print(a == b)  # Output: True\n",
        "\n",
        "        * “is” Operator- This is a type of an Identity operator that checks whether the two objects refer to the same memory location. It doesn't compare the content or value of the objects, only their identities.\n",
        "\n",
        "        Example-\n",
        "        \n",
        "        a = [1, 2, 3]\n",
        "        \n",
        "        b = [1, 2, 3]\n",
        "        \n",
        "        print(a is b)  # Output: False\n",
        "\n",
        "  8. What are logical operators in Python ?\n",
        "\n",
        "    -  In Python, logical operators are used to combine conditional statements or evaluate multiple conditions. These operators help make more complex decisions based on the truthiness of multiple expressions. Python provides three main logical operators:\n",
        "\n",
        "      1. and: Returns True if both conditions are True. If either of the conditions is False, the result is False.\n",
        "\n",
        "      2. or: Returns True if at least one condition is True. If both conditions are False, the result is False.\n",
        "\n",
        "      3. not: The not operator is a unary operator that reverses the truth value of a condition.\n",
        "\n",
        "  9. What is type casting in Python ?\n",
        "\n",
        "    - Type Casting in Python means the process of changing the data type of a value/object to another. It is needed because while executing codes using operators there could be a mismatch between the data.\n",
        "\n",
        "    Example-\n",
        "    \n",
        "    a= \"2\"\n",
        "    \n",
        "    b= 3\n",
        "    \n",
        "    int(a)+ b\n",
        "    \n",
        "    5\n",
        "\n",
        " 10.  What is the difference between implicit and explicit type casting ?\n",
        "\n",
        "    - Implicit Type Casting (Automatic Type Conversion): Python automatically converts data types when necessary, especially when you're performing operations with different data types.\n",
        "\n",
        "    - Explicit Type Casting (Manual Type Conversion): In this python explicitly convert one data type to another using Python's built-in type casting functions. These functions allow you to convert between data types manually when automatic conversion doesn't happen or when you need to ensure a specific type.\n",
        "\n",
        " 11. What is the purpose of conditional statements in Python ?\n",
        "\n",
        "  - In Python, conditional statements are used to control the flow of the program based on certain conditions. They allow the program to make decisions, executing different blocks of code depending on whether a condition is true or false. This is crucial for adding logic and flexibility to a program.\n",
        "\n",
        "  There are 4 types of conditional statements-\n",
        "\n",
        "    i) If\n",
        "\n",
        "    ii) else\n",
        "\n",
        "    iii) If-elif-else\n",
        "\n",
        "    iv) Nested If else\n",
        "\n",
        "  12. How does the elif statement work ?\n",
        "\n",
        "    - The elif statement in Python allows you to check multiple conditions in sequence. It’s used when you have more than two possible conditions and you want to check them in a specific order.\n",
        "\n",
        "    Syntax\n",
        "\n",
        "    If some condition\n",
        "\n",
        "    elif some condition\n",
        "\n",
        "    else\n",
        "\n",
        "  13. What is the difference between for and while loops ?\n",
        "\n",
        "    - for Loop: A for loop is used when you know in advance how many times you want the loop to run. It iterates over a sequence (like a list, tuple, string, or range) and executes a block of code for each item in that sequence.\n",
        "\n",
        "        While Loop:  A while loop is used when you want to repeat a block of code as long as a certain condition is met. The condition is checked before each iteration, and the loop continues running until the condition becomes False.\n",
        "\n",
        " 14. Describe a scenario where a while loop is more suitable than a for loop.\n",
        "\n",
        "    - A while loop is more suitable than a for loop when you don’t know ahead of time how many iterations you'll need, but you have a condition that determines when to stop the loop.\n",
        "    \n",
        "    Scenario: Waiting for User Input Until It’s Valid\n",
        "\n",
        "    Imagine you’re building a program that asks the user for their age, but you want to make sure the input is a valid number within a certain range (e.g., 18 to 100). You don’t know how many attempts the user will take, but you want to keep asking until the input is valid.\n",
        "\n",
        "    A while loop is perfect for this scenario because it can repeatedly prompt the user until they enter a valid age, without needing to know in advance how many attempts it will take.\n",
        "\n",
        "\n",
        "\n",
        "\n",
        "\n",
        "\n",
        "  \n",
        "\n",
        "\n",
        "\n",
        "\n",
        "\n",
        "\n",
        "\n",
        "      \n",
        "\n",
        "        \n",
        "\n",
        "\n",
        "      \n"
      ],
      "metadata": {
        "id": "mjqpzUyhN4NU"
      }
    },
    {
      "cell_type": "markdown",
      "source": [
        "#Practical Questions\n",
        "\n",
        "1. Write a Python program to print \"Hello, World!\"."
      ],
      "metadata": {
        "id": "xJzRnpw4abq7"
      }
    },
    {
      "cell_type": "code",
      "source": [
        "print(\"Hello World!\")"
      ],
      "metadata": {
        "id": "F3FUwbk7OLaT",
        "colab": {
          "base_uri": "https://localhost:8080/"
        },
        "outputId": "8bfa48cb-8632-439e-a419-5b60681b6d5b"
      },
      "execution_count": null,
      "outputs": [
        {
          "output_type": "stream",
          "name": "stdout",
          "text": [
            "Hello World!\n"
          ]
        }
      ]
    },
    {
      "cell_type": "markdown",
      "source": [
        "2.  Write a Python program that displays your name and age."
      ],
      "metadata": {
        "id": "5yzQBBHasXl3"
      }
    },
    {
      "cell_type": "code",
      "source": [
        "name= input(\"Please enter your name \")\n",
        "age= input(\"Please enter your age \")"
      ],
      "metadata": {
        "colab": {
          "base_uri": "https://localhost:8080/"
        },
        "id": "tgPtCdAmbfPf",
        "outputId": "9b1b41ae-4297-4029-cd17-91a88be42b22"
      },
      "execution_count": null,
      "outputs": [
        {
          "name": "stdout",
          "output_type": "stream",
          "text": [
            "Please enter your name Neetigya Bajpai\n",
            "Please enter your age 24 years\n"
          ]
        }
      ]
    },
    {
      "cell_type": "markdown",
      "source": [
        "3. Write code to print all the pre-defined keywords in Python using the keyword library."
      ],
      "metadata": {
        "id": "jU2wqkLycRZZ"
      }
    },
    {
      "cell_type": "code",
      "source": [
        "import keyword\n",
        "keywords= keyword.kwlist\n",
        "print(keywords)"
      ],
      "metadata": {
        "colab": {
          "base_uri": "https://localhost:8080/"
        },
        "id": "C7eCNt9Qb0Ol",
        "outputId": "d4ff017b-e322-4305-c528-d1c0e7a883f5"
      },
      "execution_count": null,
      "outputs": [
        {
          "output_type": "stream",
          "name": "stdout",
          "text": [
            "['False', 'None', 'True', 'and', 'as', 'assert', 'async', 'await', 'break', 'class', 'continue', 'def', 'del', 'elif', 'else', 'except', 'finally', 'for', 'from', 'global', 'if', 'import', 'in', 'is', 'lambda', 'nonlocal', 'not', 'or', 'pass', 'raise', 'return', 'try', 'while', 'with', 'yield']\n"
          ]
        }
      ]
    },
    {
      "cell_type": "markdown",
      "source": [
        "4. Write a program that checks if a given word is a Python keyword."
      ],
      "metadata": {
        "id": "mTaInNS5eC-g"
      }
    },
    {
      "cell_type": "code",
      "source": [
        "\n",
        "from keyword import iskeyword\n",
        "a= \"while\"\n",
        "if iskeyword(a):\n",
        "  print('a is a keyword')\n",
        "else:\n",
        "    print('a is not a keyword')"
      ],
      "metadata": {
        "colab": {
          "base_uri": "https://localhost:8080/"
        },
        "id": "UHToDzZmcY-m",
        "outputId": "144e6c90-c7cd-4b60-fc37-8dddbe59b6a0"
      },
      "execution_count": null,
      "outputs": [
        {
          "output_type": "stream",
          "name": "stdout",
          "text": [
            "a is a keyword\n"
          ]
        }
      ]
    },
    {
      "cell_type": "markdown",
      "source": [
        "5. Create a list and tuple in Python, and demonstrate how attempting to change an element works differently\n",
        "for each."
      ],
      "metadata": {
        "id": "D1qvb_05iBrh"
      }
    },
    {
      "cell_type": "code",
      "source": [
        "#In List we can change the element and can even add or remove element of the list.\n",
        "my_list= [2,3.5,True,\"Ram\"]\n",
        "type(my_list)\n"
      ],
      "metadata": {
        "colab": {
          "base_uri": "https://localhost:8080/"
        },
        "id": "9ys1RvCDgm0K",
        "outputId": "a679d0f3-f910-4aaa-b289-11622098560a"
      },
      "execution_count": null,
      "outputs": [
        {
          "output_type": "execute_result",
          "data": {
            "text/plain": [
              "list"
            ]
          },
          "metadata": {},
          "execution_count": 21
        }
      ]
    },
    {
      "cell_type": "code",
      "source": [
        "\n",
        "my_list[2]= False\n",
        "print(my_list)"
      ],
      "metadata": {
        "colab": {
          "base_uri": "https://localhost:8080/"
        },
        "id": "t7MH_ICXiraa",
        "outputId": "1506a6b9-31c7-4292-a9d6-18e887c59b95"
      },
      "execution_count": null,
      "outputs": [
        {
          "output_type": "stream",
          "name": "stdout",
          "text": [
            "[2, 3.5, False, 'Ram']\n"
          ]
        }
      ]
    },
    {
      "cell_type": "code",
      "source": [
        "my_list.append(\"shyam\")\n",
        "print(my_list)"
      ],
      "metadata": {
        "colab": {
          "base_uri": "https://localhost:8080/"
        },
        "id": "iNAXKrRajKR2",
        "outputId": "70dd9154-62e8-48b1-982f-ca68d815d7e2"
      },
      "execution_count": null,
      "outputs": [
        {
          "output_type": "stream",
          "name": "stdout",
          "text": [
            "[2, 3.5, False, 'Ram', 'shyam']\n"
          ]
        }
      ]
    },
    {
      "cell_type": "code",
      "source": [
        "#Whereas in Tuples no change of element is possible.\n",
        "tup= (1,5, \"Neeti\")\n",
        "type(tup)"
      ],
      "metadata": {
        "colab": {
          "base_uri": "https://localhost:8080/"
        },
        "id": "az5BQhUWjsdj",
        "outputId": "edf32d29-31f5-4abc-9928-0fea5f844e5f"
      },
      "execution_count": null,
      "outputs": [
        {
          "output_type": "execute_result",
          "data": {
            "text/plain": [
              "tuple"
            ]
          },
          "metadata": {},
          "execution_count": 26
        }
      ]
    },
    {
      "cell_type": "code",
      "source": [
        "tup(1)= \"Mohan\" #As we wanted to change element from the tuple it showed an error\n",
        "print(tup)\n"
      ],
      "metadata": {
        "id": "KPXF-xcWlGW6"
      },
      "execution_count": null,
      "outputs": []
    },
    {
      "cell_type": "markdown",
      "source": [
        "6.  Write a function to demonstrate the behavior of mutable and immutable arguments."
      ],
      "metadata": {
        "id": "5TjJ7x2Lljlw"
      }
    },
    {
      "cell_type": "code",
      "source": [
        "a = \"Hello\"\n",
        "b = [1,2,3,4,5]\n",
        "\n",
        "a.append(\"world\")\n",
        "print(a) #this will show an error as \"a\" is String, and it is immutable."
      ],
      "metadata": {
        "id": "oCgG_WT8lR3j"
      },
      "execution_count": null,
      "outputs": []
    },
    {
      "cell_type": "code",
      "source": [
        "b.append(6)\n",
        "print(b)# this value is printed as it was a list and it is mutable."
      ],
      "metadata": {
        "colab": {
          "base_uri": "https://localhost:8080/"
        },
        "id": "Mj9rHX02piz7",
        "outputId": "aac74043-a97b-4454-a789-0b34642ee42a"
      },
      "execution_count": null,
      "outputs": [
        {
          "output_type": "stream",
          "name": "stdout",
          "text": [
            "[1, 2, 3, 4, 5, 6]\n"
          ]
        }
      ]
    },
    {
      "cell_type": "code",
      "source": [],
      "metadata": {
        "id": "EsXLElxQqa-m"
      },
      "execution_count": null,
      "outputs": []
    },
    {
      "cell_type": "markdown",
      "source": [
        "7. Write a function to demonstrate the behavior of mutable and immutable arguments.\n",
        "\n",
        "    Same as above Answer 6"
      ],
      "metadata": {
        "id": "st-2rsCjqkcI"
      }
    },
    {
      "cell_type": "markdown",
      "source": [],
      "metadata": {
        "id": "UHiep6Z-q3K7"
      }
    },
    {
      "cell_type": "markdown",
      "source": [
        "8. Write a program to demonstrate the use of logical operators."
      ],
      "metadata": {
        "id": "5RK5kG1oq3kl"
      }
    },
    {
      "cell_type": "code",
      "source": [
        "#use of \"and\" operator\n",
        "a= 10\n",
        "b= 20\n",
        "if a>0 and b>0:\n",
        "  print(\"a and b are positive integers\")\n",
        "else:\n",
        "  print(\"a and b are negative integers\")"
      ],
      "metadata": {
        "colab": {
          "base_uri": "https://localhost:8080/"
        },
        "id": "XA7H_LQArSNT",
        "outputId": "129ffde8-5caf-407d-c798-9fc4786d9c7f"
      },
      "execution_count": null,
      "outputs": [
        {
          "output_type": "stream",
          "name": "stdout",
          "text": [
            "a and b are positive integers\n"
          ]
        }
      ]
    },
    {
      "cell_type": "code",
      "source": [
        "#use of \"or\" operator\n",
        "a= -5\n",
        "b= 26\n",
        "if a>0 or b>0:\n",
        "  print(\"one of them is a positive integer\")\n",
        "else:\n",
        "  print(\"None of them is a positive integer\")\n"
      ],
      "metadata": {
        "colab": {
          "base_uri": "https://localhost:8080/"
        },
        "id": "hVLI8l_QtLvh",
        "outputId": "2a322e1f-0f6e-4f1b-d039-374fd08dceb0"
      },
      "execution_count": null,
      "outputs": [
        {
          "output_type": "stream",
          "name": "stdout",
          "text": [
            "one of them is a positive integer\n"
          ]
        }
      ]
    },
    {
      "cell_type": "code",
      "source": [
        "# Using 'not' operator\n",
        "a= 78\n",
        "b= 63\n",
        "if not (a == b):\n",
        "  print(\"a and b are not equal.\")\n",
        "else:\n",
        "  print(\"a and b are equal\")"
      ],
      "metadata": {
        "colab": {
          "base_uri": "https://localhost:8080/"
        },
        "id": "UnrA-MLpttwU",
        "outputId": "0fa4efc3-3476-473c-845c-309b59934eae"
      },
      "execution_count": null,
      "outputs": [
        {
          "output_type": "stream",
          "name": "stdout",
          "text": [
            "a and b are not equal.\n"
          ]
        }
      ]
    },
    {
      "cell_type": "markdown",
      "source": [
        "9. Write a Python program to convert user input from string to integer, float, and boolean types.\n"
      ],
      "metadata": {
        "id": "720DC1UIv2Ix"
      }
    },
    {
      "cell_type": "code",
      "source": [
        "# Getting user input as a string\n",
        "user_input = input(\"Enter a value: \")\n",
        "\n",
        "    # Convert the string input to integer\n",
        "try:\n",
        "  int_value = int(user_input)\n",
        "  print(\"Converted to integer:\", int_value)\n",
        "except ValueError:\n",
        "    print(\"Could not convert to integer.\")\n",
        "\n",
        " # Convert the string input to float\n",
        "try:\n",
        "  float_value = float(user_input)\n",
        "  print(\"Converted to float:\", float_value)\n",
        "except ValueError:\n",
        "  print(\"Could not convert to float.\")\n",
        "\n",
        " # Convert the string input to boolean\n",
        "if int_value>0 :\n",
        "  bool_value= bool(int_value)\n",
        "  print(\"Converted to boolean:\", bool_value)\n",
        "else:\n",
        "  print(\"Could not converted to bool\", bool_value)\n"
      ],
      "metadata": {
        "colab": {
          "base_uri": "https://localhost:8080/"
        },
        "id": "FuAc5mkTvMzL",
        "outputId": "d6e8ff15-225d-42d6-8b2e-947f87a74ba0"
      },
      "execution_count": null,
      "outputs": [
        {
          "output_type": "stream",
          "name": "stdout",
          "text": [
            "Enter a value: 57\n",
            "Converted to integer: 57\n",
            "Converted to float: 57.0\n",
            "Converted to boolean: True\n"
          ]
        }
      ]
    },
    {
      "cell_type": "markdown",
      "source": [],
      "metadata": {
        "id": "t3fWz0UW3-PA"
      }
    },
    {
      "cell_type": "markdown",
      "source": [
        "10. Write code to demonstrate type casting with list elements."
      ],
      "metadata": {
        "id": "IIu5KGHn4NSO"
      }
    },
    {
      "cell_type": "code",
      "source": [
        "my_list= [6,9.5, True, \"Shyam\",]\n",
        "type(my_list)"
      ],
      "metadata": {
        "colab": {
          "base_uri": "https://localhost:8080/"
        },
        "id": "7TOkLbIh4mWH",
        "outputId": "1beda4e4-d365-4374-9500-3097a9cbe53d"
      },
      "execution_count": null,
      "outputs": [
        {
          "output_type": "execute_result",
          "data": {
            "text/plain": [
              "list"
            ]
          },
          "metadata": {},
          "execution_count": 58
        }
      ]
    },
    {
      "cell_type": "code",
      "source": [
        "my_list[1]\n",
        "type(my_list[1])"
      ],
      "metadata": {
        "colab": {
          "base_uri": "https://localhost:8080/"
        },
        "id": "FtzAHCj-zPWX",
        "outputId": "c4ddc237-6d53-4268-f7ae-b0fe0addb425"
      },
      "execution_count": null,
      "outputs": [
        {
          "output_type": "execute_result",
          "data": {
            "text/plain": [
              "float"
            ]
          },
          "metadata": {},
          "execution_count": 63
        }
      ]
    },
    {
      "cell_type": "code",
      "source": [
        "type(my_list[3])"
      ],
      "metadata": {
        "colab": {
          "base_uri": "https://localhost:8080/"
        },
        "id": "yZSlzCix5nDN",
        "outputId": "b2a0c99e-06cc-46fb-f05b-35df0c60a96f"
      },
      "execution_count": null,
      "outputs": [
        {
          "output_type": "execute_result",
          "data": {
            "text/plain": [
              "str"
            ]
          },
          "metadata": {},
          "execution_count": 64
        }
      ]
    },
    {
      "cell_type": "markdown",
      "source": [
        "11. Write a program that checks if a number is positive, negative, or zero.\n",
        "\n"
      ],
      "metadata": {
        "id": "ZEgbHIIc6kxQ"
      }
    },
    {
      "cell_type": "code",
      "source": [
        "a= -33\n",
        "if a>0:\n",
        "  print(\"a is a positive number\")\n",
        "elif a<0:\n",
        "  print(\"a is a negative number\")\n",
        "else:\n",
        "  print(\"a is zero\")"
      ],
      "metadata": {
        "colab": {
          "base_uri": "https://localhost:8080/"
        },
        "id": "_-LI_srl6prV",
        "outputId": "e0865cd7-e1c9-49c5-ec30-3cec35699360"
      },
      "execution_count": null,
      "outputs": [
        {
          "output_type": "stream",
          "name": "stdout",
          "text": [
            "a is a negative number\n"
          ]
        }
      ]
    },
    {
      "cell_type": "markdown",
      "source": [
        "12. Write a for loop to print numbers from 1 to 10."
      ],
      "metadata": {
        "id": "X05Fihr4FrQU"
      }
    },
    {
      "cell_type": "code",
      "source": [
        "for i in range(1,11):\n",
        "  print(i)"
      ],
      "metadata": {
        "colab": {
          "base_uri": "https://localhost:8080/"
        },
        "id": "RYAqZ_e055an",
        "outputId": "cef88fea-b81c-4c86-a262-102fd7b41c32"
      },
      "execution_count": null,
      "outputs": [
        {
          "output_type": "stream",
          "name": "stdout",
          "text": [
            "1\n",
            "2\n",
            "3\n",
            "4\n",
            "5\n",
            "6\n",
            "7\n",
            "8\n",
            "9\n",
            "10\n"
          ]
        }
      ]
    },
    {
      "cell_type": "markdown",
      "source": [
        "13. Write a Python program to find the sum of all even numbers between 1 and 50."
      ],
      "metadata": {
        "id": "PDD3azOtGYcy"
      }
    },
    {
      "cell_type": "code",
      "source": [
        "sum_of_even_numbers = 0\n",
        "\n",
        "# Loop through numbers from 1 to 50\n",
        "for i in range(1, 51):\n",
        "    if i % 2 == 0:\n",
        "        sum_of_even_numbers += i  # Add the even number to th sum\n",
        "print(\"The sum of all even numbers between 1 and 50 is:\", sum_of_even_numbers)\n",
        "\n"
      ],
      "metadata": {
        "colab": {
          "base_uri": "https://localhost:8080/"
        },
        "id": "3xOLiWtLGFbI",
        "outputId": "d521cd5f-9a0c-46fb-905c-76606580a2c2"
      },
      "execution_count": null,
      "outputs": [
        {
          "output_type": "stream",
          "name": "stdout",
          "text": [
            "The sum of all even numbers between 1 and 50 is: 650\n"
          ]
        }
      ]
    },
    {
      "cell_type": "markdown",
      "source": [
        " 14. Write a program to reverse a string using a while loop"
      ],
      "metadata": {
        "id": "zBy-c0DkHZ0m"
      }
    },
    {
      "cell_type": "code",
      "source": [
        "input_string = input(\"Enter a string: \")\n",
        "reversed_str = reverse_string(input_string)\n",
        "def reverse_string(input_string):\n",
        "    reversed_string = \"\"\n",
        "    index = len(input_string) - 1  # Start from the last character\n",
        "\n",
        "    # Loop until the index is valid\n",
        "    while index >= 0:\n",
        "        reversed_string += input_string[index]  # Add character to the reversed string\n",
        "        index -= 1  # Move to the previous character\n",
        "\n",
        "    return reversed_string\n",
        "print(\"Reversed string:\", reversed_str)\n",
        "\n",
        "\n"
      ],
      "metadata": {
        "colab": {
          "base_uri": "https://localhost:8080/"
        },
        "id": "m_UkuTFTHdch",
        "outputId": "ad3af5b8-96c4-4fc3-f72c-aaee75c48ec8"
      },
      "execution_count": null,
      "outputs": [
        {
          "output_type": "stream",
          "name": "stdout",
          "text": [
            "Enter a string: Hello\n",
            "Reversed string: olleH\n"
          ]
        }
      ]
    },
    {
      "cell_type": "markdown",
      "source": [
        "15. Write a Python program to calculate the factorial of a number provided by the user using a while loop.\n"
      ],
      "metadata": {
        "id": "jJZp0bAoRpCg"
      }
    },
    {
      "cell_type": "code",
      "source": [
        "num = int(input(\"Enter a number: \"))\n",
        "result = calculate_factorial(num)\n",
        "\n",
        "def calculate_factorial(n):\n",
        "    factorial = 1\n",
        "\n",
        "    # If the number is zero or one, factorial is 1\n",
        "    if n == 0 or n == 1:\n",
        "        return factorial\n",
        "\n",
        "    # Using a while loop to calculate factorial\n",
        "    while n > 1:\n",
        "        factorial *= n  # Multiply current factorial by the number\n",
        "        n -= 1  # Decrement the number\n",
        "\n",
        "    return factorial\n",
        "\n",
        "print(f\"The factorial of {num} is: {result}\")"
      ],
      "metadata": {
        "colab": {
          "base_uri": "https://localhost:8080/"
        },
        "id": "CJgevtHpR_cG",
        "outputId": "ccf082d5-4d28-4a26-f228-292f8caca5ca"
      },
      "execution_count": null,
      "outputs": [
        {
          "output_type": "stream",
          "name": "stdout",
          "text": [
            "Enter a number: 8\n",
            "The factorial of 8 is: 40320\n"
          ]
        }
      ]
    },
    {
      "cell_type": "markdown",
      "source": [],
      "metadata": {
        "id": "3b3BnqmdQS7j"
      }
    },
    {
      "cell_type": "code",
      "source": [],
      "metadata": {
        "id": "MaCloQ7PHM5E"
      },
      "execution_count": null,
      "outputs": []
    }
  ]
}